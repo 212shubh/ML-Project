{
 "cells": [
  {
   "cell_type": "markdown",
   "metadata": {
    "ExecuteTime": {
     "end_time": "2019-08-06T17:26:37.014475Z",
     "start_time": "2019-08-06T17:26:22.708586Z"
    }
   },
   "source": [
    "# Sentiment Analysis"
   ]
  },
  {
   "cell_type": "code",
   "execution_count": 1,
   "metadata": {},
   "outputs": [],
   "source": [
    "'''The goal of this project is to perform sentiment analysis on tweets \n",
    "about US airlines using machine learning algorithms. The project uses \n",
    "a dataset containing tweets from Twitter users about their experiences \n",
    "with different airlines.'''\n",
    "\n",
    "#IMPORTS\n",
    "import pandas as pd\n",
    "import numpy as np\n",
    "import re\n",
    "# from nltk.stem import WordNetLemmatizer\n",
    "from nltk.tokenize import word_tokenize\n",
    "from nltk.corpus import stopwords\n",
    "from string import punctuation\n",
    "\n",
    "from sklearn.linear_model import LogisticRegression\n",
    "from sklearn.svm import SVC, LinearSVC\n",
    "from sklearn.feature_extraction.text import CountVectorizer, TfidfVectorizer\n",
    "\n",
    "from sklearn.metrics import accuracy_score\n",
    "import sklearn.metrics as metrics\n",
    "import matplotlib.pyplot as plt"
   ]
  },
  {
   "cell_type": "code",
   "execution_count": 2,
   "metadata": {
    "ExecuteTime": {
     "end_time": "2019-08-06T17:26:38.585669Z",
     "start_time": "2019-08-06T17:26:38.449887Z"
    }
   },
   "outputs": [],
   "source": [
    "#Reading the training and testing data\n",
    "train=pd.read_csv(\"training_twitter_x_y_train.csv\") \n",
    "test = pd.read_csv(\"test_twitter_x_test.csv\")"
   ]
  },
  {
   "cell_type": "code",
   "execution_count": 3,
   "metadata": {},
   "outputs": [
    {
     "name": "stdout",
     "output_type": "stream",
     "text": [
      "(10980, 12)\n",
      "(3660, 11)\n"
     ]
    }
   ],
   "source": [
    "#Analysing the data\n",
    "print(train.shape)\n",
    "print(test.shape)"
   ]
  },
  {
   "cell_type": "code",
   "execution_count": 4,
   "metadata": {},
   "outputs": [
    {
     "name": "stdout",
     "output_type": "stream",
     "text": [
      "<class 'pandas.core.frame.DataFrame'>\n",
      "RangeIndex: 10980 entries, 0 to 10979\n",
      "Data columns (total 12 columns):\n",
      " #   Column                  Non-Null Count  Dtype  \n",
      "---  ------                  --------------  -----  \n",
      " 0   tweet_id                10980 non-null  float64\n",
      " 1   airline_sentiment       10980 non-null  object \n",
      " 2   airline                 10980 non-null  object \n",
      " 3   airline_sentiment_gold  31 non-null     object \n",
      " 4   name                    10980 non-null  object \n",
      " 5   negativereason_gold     24 non-null     object \n",
      " 6   retweet_count           10980 non-null  int64  \n",
      " 7   text                    10980 non-null  object \n",
      " 8   tweet_coord             776 non-null    object \n",
      " 9   tweet_created           10980 non-null  object \n",
      " 10  tweet_location          7430 non-null   object \n",
      " 11  user_timezone           7403 non-null   object \n",
      "dtypes: float64(1), int64(1), object(10)\n",
      "memory usage: 1.0+ MB\n"
     ]
    }
   ],
   "source": [
    "train.info()"
   ]
  },
  {
   "cell_type": "code",
   "execution_count": 5,
   "metadata": {},
   "outputs": [
    {
     "name": "stdout",
     "output_type": "stream",
     "text": [
      "<class 'pandas.core.frame.DataFrame'>\n",
      "RangeIndex: 3660 entries, 0 to 3659\n",
      "Data columns (total 11 columns):\n",
      " #   Column                  Non-Null Count  Dtype \n",
      "---  ------                  --------------  ----- \n",
      " 0   tweet_id                3660 non-null   int64 \n",
      " 1   airline                 3660 non-null   object\n",
      " 2   airline_sentiment_gold  9 non-null      object\n",
      " 3   name                    3660 non-null   object\n",
      " 4   negativereason_gold     8 non-null      object\n",
      " 5   retweet_count           3660 non-null   int64 \n",
      " 6   text                    3660 non-null   object\n",
      " 7   tweet_coord             243 non-null    object\n",
      " 8   tweet_created           3660 non-null   object\n",
      " 9   tweet_location          2477 non-null   object\n",
      " 10  user_timezone           2417 non-null   object\n",
      "dtypes: int64(2), object(9)\n",
      "memory usage: 314.7+ KB\n"
     ]
    }
   ],
   "source": [
    "test.info()"
   ]
  },
  {
   "cell_type": "code",
   "execution_count": 6,
   "metadata": {},
   "outputs": [
    {
     "name": "stdout",
     "output_type": "stream",
     "text": [
      "11\n",
      "Customer Service Issue                      9\n",
      "Late Flight                                 3\n",
      "Cancelled Flight                            3\n",
      "Can't Tell                                  2\n",
      "Late Flight\\nFlight Attendant Complaints    1\n",
      "Cancelled Flight\\nCustomer Service Issue    1\n",
      "Late Flight\\nCancelled Flight               1\n",
      "Customer Service Issue\\nLost Luggage        1\n",
      "Customer Service Issue\\nCan't Tell          1\n",
      "Bad Flight                                  1\n",
      "Lost Luggage\\nDamaged Luggage               1\n",
      "Name: negativereason_gold, dtype: int64 \n",
      "\n",
      "6\n",
      "Customer Service Issue                      3\n",
      "Flight Attendant Complaints                 1\n",
      "Late Flight                                 1\n",
      "Late Flight\\nLost Luggage                   1\n",
      "Cancelled Flight\\nCustomer Service Issue    1\n",
      "Can't Tell                                  1\n",
      "Name: negativereason_gold, dtype: int64\n"
     ]
    }
   ],
   "source": [
    "# Checking the various reasons for negative comments\n",
    "print(train['negativereason_gold'].nunique())\n",
    "print(train['negativereason_gold'].value_counts(),\"\\n\")\n",
    "\n",
    "print(test.negativereason_gold.nunique())\n",
    "print(test.negativereason_gold.value_counts())"
   ]
  },
  {
   "cell_type": "code",
   "execution_count": 7,
   "metadata": {},
   "outputs": [
    {
     "data": {
      "text/html": [
       "<div>\n",
       "<style scoped>\n",
       "    .dataframe tbody tr th:only-of-type {\n",
       "        vertical-align: middle;\n",
       "    }\n",
       "\n",
       "    .dataframe tbody tr th {\n",
       "        vertical-align: top;\n",
       "    }\n",
       "\n",
       "    .dataframe thead th {\n",
       "        text-align: right;\n",
       "    }\n",
       "</style>\n",
       "<table border=\"1\" class=\"dataframe\">\n",
       "  <thead>\n",
       "    <tr style=\"text-align: right;\">\n",
       "      <th></th>\n",
       "      <th>tweet_id</th>\n",
       "      <th>airline_sentiment</th>\n",
       "      <th>airline</th>\n",
       "      <th>airline_sentiment_gold</th>\n",
       "      <th>name</th>\n",
       "      <th>negativereason_gold</th>\n",
       "      <th>retweet_count</th>\n",
       "      <th>text</th>\n",
       "      <th>tweet_coord</th>\n",
       "      <th>tweet_created</th>\n",
       "      <th>tweet_location</th>\n",
       "      <th>user_timezone</th>\n",
       "    </tr>\n",
       "  </thead>\n",
       "  <tbody>\n",
       "    <tr>\n",
       "      <th>0</th>\n",
       "      <td>5.679000e+17</td>\n",
       "      <td>negative</td>\n",
       "      <td>Southwest</td>\n",
       "      <td>NaN</td>\n",
       "      <td>ColeyGirouard</td>\n",
       "      <td>NaN</td>\n",
       "      <td>0</td>\n",
       "      <td>@SouthwestAir I am scheduled for the morning, ...</td>\n",
       "      <td>NaN</td>\n",
       "      <td>2015-02-17 20:16:29 -0800</td>\n",
       "      <td>Washington D.C.</td>\n",
       "      <td>Atlantic Time (Canada)</td>\n",
       "    </tr>\n",
       "    <tr>\n",
       "      <th>1</th>\n",
       "      <td>5.699890e+17</td>\n",
       "      <td>positive</td>\n",
       "      <td>Southwest</td>\n",
       "      <td>NaN</td>\n",
       "      <td>WalterFaddoul</td>\n",
       "      <td>NaN</td>\n",
       "      <td>0</td>\n",
       "      <td>@SouthwestAir seeing your workers time in and ...</td>\n",
       "      <td>NaN</td>\n",
       "      <td>2015-02-23 14:36:22 -0800</td>\n",
       "      <td>Indianapolis, Indiana; USA</td>\n",
       "      <td>Central Time (US &amp; Canada)</td>\n",
       "    </tr>\n",
       "    <tr>\n",
       "      <th>2</th>\n",
       "      <td>5.680890e+17</td>\n",
       "      <td>positive</td>\n",
       "      <td>United</td>\n",
       "      <td>NaN</td>\n",
       "      <td>LocalKyle</td>\n",
       "      <td>NaN</td>\n",
       "      <td>0</td>\n",
       "      <td>@united Flew ORD to Miami and back and  had gr...</td>\n",
       "      <td>NaN</td>\n",
       "      <td>2015-02-18 08:46:29 -0800</td>\n",
       "      <td>Illinois</td>\n",
       "      <td>Central Time (US &amp; Canada)</td>\n",
       "    </tr>\n",
       "    <tr>\n",
       "      <th>3</th>\n",
       "      <td>5.689280e+17</td>\n",
       "      <td>negative</td>\n",
       "      <td>Southwest</td>\n",
       "      <td>NaN</td>\n",
       "      <td>amccarthy19</td>\n",
       "      <td>NaN</td>\n",
       "      <td>0</td>\n",
       "      <td>@SouthwestAir @dultch97 that's horse radish 😤🐴</td>\n",
       "      <td>NaN</td>\n",
       "      <td>2015-02-20 16:20:26 -0800</td>\n",
       "      <td>NaN</td>\n",
       "      <td>Atlantic Time (Canada)</td>\n",
       "    </tr>\n",
       "    <tr>\n",
       "      <th>4</th>\n",
       "      <td>5.685940e+17</td>\n",
       "      <td>negative</td>\n",
       "      <td>United</td>\n",
       "      <td>NaN</td>\n",
       "      <td>J_Okayy</td>\n",
       "      <td>NaN</td>\n",
       "      <td>0</td>\n",
       "      <td>@united so our flight into ORD was delayed bec...</td>\n",
       "      <td>NaN</td>\n",
       "      <td>2015-02-19 18:13:11 -0800</td>\n",
       "      <td>NaN</td>\n",
       "      <td>Eastern Time (US &amp; Canada)</td>\n",
       "    </tr>\n",
       "  </tbody>\n",
       "</table>\n",
       "</div>"
      ],
      "text/plain": [
       "       tweet_id airline_sentiment    airline airline_sentiment_gold  \\\n",
       "0  5.679000e+17          negative  Southwest                    NaN   \n",
       "1  5.699890e+17          positive  Southwest                    NaN   \n",
       "2  5.680890e+17          positive     United                    NaN   \n",
       "3  5.689280e+17          negative  Southwest                    NaN   \n",
       "4  5.685940e+17          negative     United                    NaN   \n",
       "\n",
       "            name negativereason_gold  retweet_count  \\\n",
       "0  ColeyGirouard                 NaN              0   \n",
       "1  WalterFaddoul                 NaN              0   \n",
       "2      LocalKyle                 NaN              0   \n",
       "3    amccarthy19                 NaN              0   \n",
       "4        J_Okayy                 NaN              0   \n",
       "\n",
       "                                                text tweet_coord  \\\n",
       "0  @SouthwestAir I am scheduled for the morning, ...         NaN   \n",
       "1  @SouthwestAir seeing your workers time in and ...         NaN   \n",
       "2  @united Flew ORD to Miami and back and  had gr...         NaN   \n",
       "3     @SouthwestAir @dultch97 that's horse radish 😤🐴         NaN   \n",
       "4  @united so our flight into ORD was delayed bec...         NaN   \n",
       "\n",
       "               tweet_created              tweet_location  \\\n",
       "0  2015-02-17 20:16:29 -0800             Washington D.C.   \n",
       "1  2015-02-23 14:36:22 -0800  Indianapolis, Indiana; USA   \n",
       "2  2015-02-18 08:46:29 -0800                    Illinois   \n",
       "3  2015-02-20 16:20:26 -0800                         NaN   \n",
       "4  2015-02-19 18:13:11 -0800                         NaN   \n",
       "\n",
       "                user_timezone  \n",
       "0      Atlantic Time (Canada)  \n",
       "1  Central Time (US & Canada)  \n",
       "2  Central Time (US & Canada)  \n",
       "3      Atlantic Time (Canada)  \n",
       "4  Eastern Time (US & Canada)  "
      ]
     },
     "execution_count": 7,
     "metadata": {},
     "output_type": "execute_result"
    }
   ],
   "source": [
    "train.head()"
   ]
  },
  {
   "cell_type": "code",
   "execution_count": 8,
   "metadata": {},
   "outputs": [
    {
     "data": {
      "text/plain": [
       "array(['negative', 'positive', 'neutral'], dtype=object)"
      ]
     },
     "execution_count": 8,
     "metadata": {},
     "output_type": "execute_result"
    }
   ],
   "source": [
    "#Types of sentiments\n",
    "train[\"airline_sentiment\"].unique()"
   ]
  },
  {
   "cell_type": "code",
   "execution_count": 9,
   "metadata": {},
   "outputs": [
    {
     "data": {
      "image/png": "[encoded data removed]",
      "text/plain": [
       "<Figure size 432x288 with 1 Axes>"
      ]
     },
     "metadata": {
      "needs_background": "light"
     },
     "output_type": "display_data"
    }
   ],
   "source": [
    "#Plotting sentiment counts in training data\n",
    "plt.xlabel(\"Sentiment Type\")\n",
    "plt.ylabel(\"Sentiment Count\")\n",
    "plt.hist(train[\"airline_sentiment\"])\n",
    "plt.show()"
   ]
  },
  {
   "cell_type": "markdown",
   "metadata": {},
   "source": [
    "## Cleaning"
   ]
  },
  {
   "cell_type": "code",
   "execution_count": 10,
   "metadata": {},
   "outputs": [],
   "source": [
    "#Cleaning and transforming raw data prior to processing and analysis."
   ]
  },
  {
   "cell_type": "code",
   "execution_count": 11,
   "metadata": {
    "ExecuteTime": {
     "end_time": "2019-08-06T17:26:40.961890Z",
     "start_time": "2019-08-06T17:26:40.947305Z"
    }
   },
   "outputs": [],
   "source": [
    "'''Several columns, such as \"airline_sentiment_gold\",\"name\",\"tweet_id\"\n",
    ",\"retweet_count\",\"tweet_created\",\"user_timezone\",\"tweet_coord\", and \n",
    "\"tweet_location\", are not useful for our analysis, so we dropped them \n",
    "from both the training and test datasets.'''\n",
    "drop_cols = ['airline_sentiment_gold','name','tweet_id', 'retweet_count',\n",
    "             'tweet_created','user_timezone','tweet_coord','tweet_location']\n",
    "train.drop(drop_cols, axis = 1, inplace=True)\n",
    "test.drop(drop_cols, axis = 1, inplace=True)"
   ]
  },
  {
   "cell_type": "code",
   "execution_count": 12,
   "metadata": {
    "scrolled": true
   },
   "outputs": [
    {
     "name": "stdout",
     "output_type": "stream",
     "text": [
      "<class 'pandas.core.frame.DataFrame'>\n",
      "RangeIndex: 10980 entries, 0 to 10979\n",
      "Data columns (total 4 columns):\n",
      " #   Column               Non-Null Count  Dtype \n",
      "---  ------               --------------  ----- \n",
      " 0   airline_sentiment    10980 non-null  object\n",
      " 1   airline              10980 non-null  object\n",
      " 2   negativereason_gold  24 non-null     object\n",
      " 3   text                 10980 non-null  object\n",
      "dtypes: object(4)\n",
      "memory usage: 343.2+ KB\n"
     ]
    }
   ],
   "source": [
    "train.info()"
   ]
  },
  {
   "cell_type": "code",
   "execution_count": 13,
   "metadata": {
    "ExecuteTime": {
     "end_time": "2019-08-06T17:26:41.612911Z",
     "start_time": "2019-08-06T17:26:41.597341Z"
    }
   },
   "outputs": [
    {
     "name": "stdout",
     "output_type": "stream",
     "text": [
      "['i', 'me', 'my', 'myself', 'we', 'our', 'ours', 'ourselves', 'you', \"you're\", \"you've\", \"you'll\", \"you'd\", 'your', 'yours', 'yourself', 'yourselves', 'he', 'him', 'his', 'himself', 'she', \"she's\", 'her', 'hers', 'herself', 'it', \"it's\", 'its', 'itself', 'they', 'them', 'their', 'theirs', 'themselves', 'what', 'which', 'who', 'whom', 'this', 'that', \"that'll\", 'these', 'those', 'am', 'is', 'are', 'was', 'were', 'be', 'been', 'being', 'have', 'has', 'had', 'having', 'do', 'does', 'did', 'doing', 'a', 'an', 'the', 'and', 'but', 'if', 'or', 'because', 'as', 'until', 'while', 'of', 'at', 'by', 'for', 'with', 'about', 'against', 'between', 'into', 'through', 'during', 'before', 'after', 'above', 'below', 'to', 'from', 'up', 'down', 'in', 'out', 'on', 'off', 'over', 'under', 'again', 'further', 'then', 'once', 'here', 'there', 'when', 'where', 'why', 'how', 'all', 'any', 'both', 'each', 'few', 'more', 'most', 'other', 'some', 'such', 'no', 'nor', 'not', 'only', 'own', 'same', 'so', 'than', 'too', 'very', 's', 't', 'can', 'will', 'just', 'don', \"don't\", 'should', \"should've\", 'now', 'd', 'll', 'm', 'o', 're', 've', 'y', 'ain', 'aren', \"aren't\", 'couldn', \"couldn't\", 'didn', \"didn't\", 'doesn', \"doesn't\", 'hadn', \"hadn't\", 'hasn', \"hasn't\", 'haven', \"haven't\", 'isn', \"isn't\", 'ma', 'mightn', \"mightn't\", 'mustn', \"mustn't\", 'needn', \"needn't\", 'shan', \"shan't\", 'shouldn', \"shouldn't\", 'wasn', \"wasn't\", 'weren', \"weren't\", 'won', \"won't\", 'wouldn', \"wouldn't\", '!', '\"', '#', '$', '%', '&', \"'\", '(', ')', '*', '+', ',', '-', '.', '/', ':', ';', '<', '=', '>', '?', '@', '[', '\\\\', ']', '^', '_', '`', '{', '|', '}', '~', 'flight', 'airline', 'flights', 'AA']\n"
     ]
    }
   ],
   "source": [
    "#Make a list of stopwords in english\n",
    "stops = stopwords.words('english')\n",
    "stops += list(punctuation)\n",
    "stops += ['flight','airline','flights','AA']\n",
    "print(stops)"
   ]
  },
  {
   "cell_type": "code",
   "execution_count": 14,
   "metadata": {
    "ExecuteTime": {
     "end_time": "2019-08-06T17:26:47.245154Z",
     "start_time": "2019-08-06T17:26:42.658559Z"
    }
   },
   "outputs": [],
   "source": [
    "#Substituting for abbreviations used in comments\n",
    "abbreviations = {'ppl': 'people','cust':'customer','serv':'service',\n",
    "                 'mins':'minutes','hrs':'hours','svc': 'service',\n",
    "                'u':'you','pls':'please'}\n",
    "\n",
    "#Getting the indices where negative reason is not null\n",
    "train_index = train[~train.negativereason_gold.isna()].index\n",
    "test_index = test[~test.negativereason_gold.isna()].index\n",
    "\n",
    "'''Removing all links, usernames, white spaces,#tags, replacing \n",
    "abbreviations with actual words from the comments of training data'''\n",
    "\n",
    "for index, row in train.iterrows():\n",
    "    tweet = row.text\n",
    "    tweet = re.sub('((www\\.[^\\s]+)|(https?://[^\\s]+))','',tweet) #remove links\n",
    "    tweet = re.sub('@[^\\s]+','',tweet) #remove usernames\n",
    "    tweet = re.sub('[\\s]+', ' ', tweet) #remove additional whitespaces\n",
    "    tweet = re.sub(r'#([^\\s]+)', r'\\1', tweet) #replace #word with word\n",
    "    tweet = tweet.strip('\\'\"') #trim tweet\n",
    "    words = []\n",
    "    for word in tweet.split():\n",
    "        if word.lower() not in stops:\n",
    "            if word in list(abbreviations.keys()):\n",
    "                words.append(abbreviations[word])\n",
    "            else:\n",
    "                words.append(word.lower())   \n",
    "    tweet = \" \".join(words)\n",
    "    tweet = \" %s %s\" % (tweet, row.airline)\n",
    "    row.text = tweet\n",
    "    if index in train_index:\n",
    "        row.text = \" %s %s\" % (row.text, row.negativereason_gold)\n",
    "\n",
    "'''Removing all links,usernames,white spaces, #tags, replacing \n",
    "abbreviations with actual words from the comments from testing data'''\n",
    "\n",
    "for index, row in test.iterrows():\n",
    "    tweet = row.text\n",
    "    tweet = re.sub('((www\\.[^\\s]+)|(https?://[^\\s]+))','',tweet) #remove links\n",
    "    tweet = re.sub('@[^\\s]+','',tweet) #remove usernames\n",
    "    tweet = re.sub('[\\s]+', ' ', tweet) #remove additional whitespaces\n",
    "    tweet = re.sub(r'#([^\\s]+)', r'\\1', tweet) #replace #word with word\n",
    "    tweet = tweet.strip('\\'\"') #trim tweet\n",
    "    words = []\n",
    "    for word in tweet.split(): \n",
    "#         if not hasNumbers(word):\n",
    "        if word.lower() not in stops:\n",
    "            if word in list(abbreviations.keys()):\n",
    "                words.append(abbreviations[word])\n",
    "            else:\n",
    "                words.append(word.lower())\n",
    "    tweet = \" \".join(words)\n",
    "    tweet = \" %s %s\" % (tweet, row.airline)\n",
    "    row.text = tweet\n",
    "    if index in test_index:\n",
    "        row.text = \" %s %s\" % (row.text, row.negativereason_gold)\n",
    "\n",
    "del train['negativereason_gold']\n",
    "del test['negativereason_gold']"
   ]
  },
  {
   "cell_type": "code",
   "execution_count": 15,
   "metadata": {
    "ExecuteTime": {
     "end_time": "2019-08-06T17:26:52.848188Z",
     "start_time": "2019-08-06T17:26:50.534082Z"
    },
    "code_folding": []
   },
   "outputs": [],
   "source": [
    "#Removing the emojies from the comments in training and testing data\n",
    "def deEmojify(inputString):\n",
    "    return inputString.encode('ascii', 'ignore').decode('ascii')\n",
    "\n",
    "for index, row in train.iterrows():\n",
    "    row.text = deEmojify(row.text)\n",
    "\n",
    "for index, row in test.iterrows():\n",
    "    row.text = deEmojify(row.text)"
   ]
  },
  {
   "cell_type": "code",
   "execution_count": 16,
   "metadata": {
    "ExecuteTime": {
     "end_time": "2019-08-06T17:26:55.482112Z",
     "start_time": "2019-08-06T17:26:52.850905Z"
    }
   },
   "outputs": [],
   "source": [
    "#Removing the numbers from the comments of traing and testing data\n",
    "def hasNumbers(inputString):\n",
    "    return any(char.isdigit() for char in inputString)\n",
    "\n",
    "for index, row in train.iterrows():\n",
    "    words = row.text.split()\n",
    "    new_words = []\n",
    "    for word in words:\n",
    "        if not hasNumbers(word):\n",
    "            new_words.append(word)\n",
    "    row.text = \" \".join(new_words)\n",
    "    \n",
    "for index, row in test.iterrows():\n",
    "    words = row.text.split()\n",
    "    new_words = []\n",
    "    for word in words:\n",
    "        if not hasNumbers(word):\n",
    "            new_words.append(word)\n",
    "    row.text = \" \".join(new_words)"
   ]
  },
  {
   "cell_type": "markdown",
   "metadata": {},
   "source": [
    "## Creating vocab and data formatting"
   ]
  },
  {
   "cell_type": "code",
   "execution_count": 17,
   "metadata": {
    "ExecuteTime": {
     "end_time": "2019-08-06T17:56:34.904385Z",
     "start_time": "2019-08-06T17:56:34.631243Z"
    }
   },
   "outputs": [],
   "source": [
    "'''Getting vocab of all words in comments of training and testing data\n",
    "TfidfVectorizer creates a matrix of term frequency-inverse document frequency\n",
    "(TF-IDF) values.'''\n",
    "v = TfidfVectorizer()\n",
    "train_features= v.fit_transform(train.text)\n",
    "test_features=v.transform(test.text)\n",
    "#print(v.get_feature_names_out())"
   ]
  },
  {
   "cell_type": "code",
   "execution_count": 18,
   "metadata": {
    "ExecuteTime": {
     "end_time": "2019-08-06T17:56:38.481957Z",
     "start_time": "2019-08-06T17:56:38.333543Z"
    }
   },
   "outputs": [
    {
     "name": "stdout",
     "output_type": "stream",
     "text": [
      "Accuracy in training data : 0.8842440801457195\n",
      "              precision    recall  f1-score   support\n",
      "\n",
      "    negative       0.88      0.98      0.93      6851\n",
      "     neutral       0.88      0.69      0.77      2327\n",
      "    positive       0.91      0.78      0.84      1802\n",
      "\n",
      "    accuracy                           0.88     10980\n",
      "   macro avg       0.89      0.81      0.85     10980\n",
      "weighted avg       0.89      0.88      0.88     10980\n",
      "\n"
     ]
    }
   ],
   "source": [
    "#Making predictions using Logistic regression\n",
    "clf = LogisticRegression(C = 2.1, solver='liblinear',multi_class='auto')\n",
    "clf.fit(train_features,train['airline_sentiment'])\n",
    "pred = clf.predict(test_features)\n",
    "pred2=clf.predict(train_features)\n",
    "\n",
    "#Writing predictions into file predictions_twitter.csv\n",
    "with open('predictions_twitter.csv', 'w') as f:\n",
    "    for item in pred:\n",
    "        f.write(\"%s\\n\" % item)\n",
    "\n",
    "acc = accuracy_score(train[\"airline_sentiment\"], pred2)\n",
    "print(\"Accuracy in training data :\",acc)\n",
    "print(metrics.classification_report(train[\"airline_sentiment\"], pred2))"
   ]
  },
  {
   "cell_type": "code",
   "execution_count": 19,
   "metadata": {
    "ExecuteTime": {
     "end_time": "2019-08-06T15:53:29.055261Z",
     "start_time": "2019-08-06T15:53:19.146191Z"
    }
   },
   "outputs": [
    {
     "name": "stdout",
     "output_type": "stream",
     "text": [
      "Accuracy in testing data : 0.8970856102003643\n",
      "              precision    recall  f1-score   support\n",
      "\n",
      "    negative       0.90      0.98      0.94      6851\n",
      "     neutral       0.88      0.72      0.79      2327\n",
      "    positive       0.91      0.82      0.86      1802\n",
      "\n",
      "    accuracy                           0.90     10980\n",
      "   macro avg       0.90      0.84      0.86     10980\n",
      "weighted avg       0.90      0.90      0.89     10980\n",
      "\n"
     ]
    }
   ],
   "source": [
    "#Making predictions using Support vector machine\n",
    "clf = SVC(kernel=\"linear\", C= 0.96)\n",
    "clf.fit(train_features, train['airline_sentiment'])\n",
    "pred = clf.predict(test_features)\n",
    "pred2=clf.predict(train_features)\n",
    "\n",
    "#Writing predictions into file predictions_twitter2.csv\n",
    "with open('predictions_twitter2.csv', 'w') as f:\n",
    "    for item in pred:\n",
    "        f.write(\"%s\\n\" % item)\n",
    "        \n",
    "acc = accuracy_score(train[\"airline_sentiment\"], pred2)\n",
    "print(\"Accuracy in testing data :\",acc)\n",
    "print(metrics.classification_report(train[\"airline_sentiment\"], pred2))"
   ]
  },
  {
   "cell_type": "markdown",
   "metadata": {},
   "source": [
    "# VISUALIZE THE RESULTS"
   ]
  },
  {
   "cell_type": "code",
   "execution_count": 20,
   "metadata": {},
   "outputs": [
    {
     "data": {
      "image/png": "[encoded data removed]",
      "text/plain": [
       "<Figure size 432x288 with 1 Axes>"
      ]
     },
     "metadata": {
      "needs_background": "light"
     },
     "output_type": "display_data"
    }
   ],
   "source": [
    "#Plotting sentiment counts in testing data\n",
    "plt.xlabel(\"Sentiment Type\")\n",
    "plt.ylabel(\"Sentiment Count\")\n",
    "plt.hist(pred)\n",
    "plt.show()"
   ]
  },
  {
   "cell_type": "code",
   "execution_count": 21,
   "metadata": {},
   "outputs": [
    {
     "data": {
      "image/png": "[encoded data removed]",
      "text/plain": [
       "<Figure size 432x288 with 1 Axes>"
      ]
     },
     "metadata": {
      "needs_background": "light"
     },
     "output_type": "display_data"
    }
   ],
   "source": [
    "#plot count of negative comments for different airlines\n",
    "airways=[]\n",
    "for i in range(len(pred)):\n",
    "    if pred[i]==\"negative\":\n",
    "        airways.append(test.iloc[i,0])\n",
    "plt.hist(airways)\n",
    "plt.xlabel(\"Airways\")\n",
    "plt.ylabel(\"Count of negative comments\")\n",
    "plt.show()"
   ]
  },
  {
   "cell_type": "code",
   "execution_count": 22,
   "metadata": {},
   "outputs": [
    {
     "data": {
      "image/png": "[encoded data removed]",
      "text/plain": [
       "<Figure size 432x288 with 1 Axes>"
      ]
     },
     "metadata": {
      "needs_background": "light"
     },
     "output_type": "display_data"
    }
   ],
   "source": [
    "#plot count of positive comments for different airlines\n",
    "airways=[]\n",
    "for i in range(len(pred)):\n",
    "    if pred[i]==\"positive\":\n",
    "        airways.append(test.iloc[i,0])\n",
    "plt.hist(airways)\n",
    "plt.xlabel(\"Airways\")\n",
    "plt.ylabel(\"Count of positive comments\")\n",
    "plt.show()"
   ]
  }
 ],
 "metadata": {
  "kernelspec": {
   "display_name": "Python 3 (ipykernel)",
   "language": "python",
   "name": "python3"
  },
  "language_info": {
   "codemirror_mode": {
    "name": "ipython",
    "version": 3
   },
   "file_extension": ".py",
   "mimetype": "text/x-python",
   "name": "python",
   "nbconvert_exporter": "python",
   "pygments_lexer": "ipython3",
   "version": "3.10.0"
  },
  "notify_time": "5"
 },
 "nbformat": 4,
 "nbformat_minor": 2
}
